{
 "cells": [
  {
   "cell_type": "code",
   "execution_count": null,
   "metadata": {},
   "outputs": [],
   "source": []
  },
  {
   "cell_type": "code",
   "execution_count": 15,
   "metadata": {},
   "outputs": [
    {
     "name": "stdout",
     "output_type": "stream",
     "text": [
      "No target visible\n"
     ]
    }
   ],
   "source": [
    "from photonlibpy import PhotonCamera, PhotonPoseEstimator, PoseStrategy\n",
    "from robotpy_apriltag import AprilTagField, AprilTagFieldLayout\n",
    "\n",
    "import ntcore\n",
    "import logging\n",
    "\n",
    "logging.basicConfig(level=logging.DEBUG)\n",
    "\n",
    "# Create a NetworkTables instance and start a client\n",
    "inst = ntcore.NetworkTableInstance.getDefault()\n",
    "inst.startClient4(\"photonvision-client\")  # start NT4 client with a name\n",
    "inst.setServer(\"localhost\", ntcore.NetworkTableInstance.kDefaultPort4)  # connect to server (PhotonVision)\n",
    "\n",
    "# Get the table for PhotonVision\n",
    "camera_name = 'VirtualBox_Webcam_-_OBS_Virtual_Camera'\n",
    "table = inst.getTable(\"camera_name\")\n",
    "cameraTable = table.getSubTable(\"camera_name\")  # use the camera name as shown in PhotonVision UI\n",
    "\n",
    "# Optionally, wait until connected\n",
    "# inst.waitForConnection(timeout=1.0)  # wait up to 1 second for connection\n",
    "\n",
    "if cameraTable.getBoolean(\"hasTarget\", False):\n",
    "    pose = cameraTable.getDoubleArray(\"targetPose\", [])\n",
    "    # pose will be [x, y, z, q_w, q_x, q_y, q_z] if a target is detected\n",
    "    print(\"Camera pose (relative to tag):\", pose)\n",
    "    print(\"Yaw: %.2f deg, Pitch: %.2f deg\" % (yaw, pitch))\n",
    "else:\n",
    "    print(\"No target visible\")\n"
   ]
  },
  {
   "cell_type": "code",
   "execution_count": null,
   "metadata": {},
   "outputs": [],
   "source": [
    "\n"
   ]
  },
  {
   "cell_type": "code",
   "execution_count": null,
   "metadata": {},
   "outputs": [],
   "source": [
    "\n",
    "# Now read values:\n",
    "if cameraTable.getBoolean(\"hasTarget\", False):\n",
    "    pose = cameraTable.getDoubleArray(\"targetPose\", [])\n",
    "    # pose will be [x, y, z, q_w, q_x, q_y, q_z] if a target is detected\n",
    "    print(\"Camera pose (relative to tag):\", pose)\n",
    "    # You can also get yaw/pitch if needed:\n",
    "    yaw = cameraTable.getDouble(\"targetYaw\", 0.0)\n",
    "    pitch = cameraTable.getDouble(\"targetPitch\", 0.0)\n",
    "    print(\"Yaw: %.2f deg, Pitch: %.2f deg\" % (yaw, pitch))\n",
    "else:\n",
    "    print(\"No target visible\")\n"
   ]
  },
  {
   "cell_type": "code",
   "execution_count": null,
   "metadata": {},
   "outputs": [],
   "source": []
  },
  {
   "cell_type": "code",
   "execution_count": null,
   "metadata": {},
   "outputs": [],
   "source": []
  }
 ],
 "metadata": {
  "kernelspec": {
   "display_name": ".env",
   "language": "python",
   "name": "python3"
  },
  "language_info": {
   "codemirror_mode": {
    "name": "ipython",
    "version": 3
   },
   "file_extension": ".py",
   "mimetype": "text/x-python",
   "name": "python",
   "nbconvert_exporter": "python",
   "pygments_lexer": "ipython3",
   "version": "3.12.7"
  }
 },
 "nbformat": 4,
 "nbformat_minor": 2
}
